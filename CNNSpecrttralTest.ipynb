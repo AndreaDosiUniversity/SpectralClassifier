{
 "cells": [
  {
   "cell_type": "code",
   "execution_count": 4,
   "metadata": {},
   "outputs": [],
   "source": [
    "import torch\n",
    "import torch.nn as nn\n",
    "import torch.optim as optim\n",
    "import utils.dataloader\n",
    "from models import SpectraCNNClassifier\n",
    "import pandas as pd\n",
    "import random\n",
    "import numpy as np\n"
   ]
  },
  {
   "cell_type": "code",
   "execution_count": 5,
   "metadata": {},
   "outputs": [],
   "source": [
    "# CUDA for PyTorch\n",
    "use_cuda = torch.cuda.is_available()\n",
    "device = torch.device(\"cuda:0\" if use_cuda else \"cpu\")\n",
    "torch.backends.cudnn.benchmark = True"
   ]
  },
  {
   "cell_type": "code",
   "execution_count": 6,
   "metadata": {},
   "outputs": [],
   "source": [
    "# Set a random seed for PyTorch\n",
    "seed = 42\n",
    "torch.manual_seed(seed)\n",
    "torch.backends.cudnn.deterministic = True\n",
    "torch.backends.cudnn.benchmark = False\n",
    "\n",
    "# Set random seeds for other libraries, like NumPy\n",
    "random.seed(seed)\n",
    "np.random.seed(seed)\n",
    "\n",
    "# If you're using CUDA (GPU), set a seed for it as well\n",
    "if torch.cuda.is_available():\n",
    "    torch.cuda.manual_seed_all(seed)"
   ]
  },
  {
   "cell_type": "code",
   "execution_count": 7,
   "metadata": {},
   "outputs": [],
   "source": [
    "import torch\n",
    "from torch.utils.data import Dataset, DataLoader\n",
    "import pandas as pd\n",
    "import numpy as np\n",
    "\n",
    "class CustomSpectrumDataset(Dataset):\n",
    "    def __init__(self, spectrum_file, label_file):\n",
    "        # Load spectrum and label data from CSV files\n",
    "        self.spectrum_data = np.loadtxt(spectrum_file, delimiter=\",\", dtype= np.float32)\n",
    "        self.label_data = np.loadtxt(label_file, delimiter=\",\", dtype=np.float32).astype(np.int64)\n",
    "\n",
    "    def __len__(self):\n",
    "        # Ensure both datasets have the same length\n",
    "        assert self.spectrum_data.shape[1] == self.label_data.shape[0]\n",
    "        return self.spectrum_data.shape[1]\n",
    "\n",
    "    def __getitem__(self, idx):\n",
    "        # Get spectrum and label data for a given index\n",
    "        spectrum = torch.from_numpy(self.spectrum_data[:, idx])\n",
    "        label = torch.from_numpy(self.label_data[idx])\n",
    "\n",
    "        return spectrum, label\n"
   ]
  },
  {
   "cell_type": "code",
   "execution_count": 8,
   "metadata": {},
   "outputs": [],
   "source": [
    "# Usage:\n",
    "label_file = \"datasets/training_labels.csv\"\n",
    "spectrum_file = \"datasets/training_set.csv\"\n",
    "custom_dataset = CustomSpectrumDataset(spectrum_file, label_file)\n"
   ]
  },
  {
   "cell_type": "code",
   "execution_count": 10,
   "metadata": {},
   "outputs": [],
   "source": [
    "# Define a DataLoader to use during training\n",
    "batch_size = 64  # Set your desired batch size\n",
    "data_loader = DataLoader(custom_dataset, batch_size=batch_size, shuffle=True, num_workers=4,)\n"
   ]
  },
  {
   "cell_type": "code",
   "execution_count": 11,
   "metadata": {},
   "outputs": [],
   "source": [
    "### per DAVIDE ###\n",
    "#### QUI, AL POSTO DEI PRINT METTI IL MODELLO CHE VUOI TRAINARE (IL MODELLO STA NEL FILE MODELS) ####\n",
    "\n",
    "# Now you can iterate through the DataLoader in your training loop.\n",
    "for batch in data_loader:\n",
    "    spectra, labels = batch\n",
    "    # Move batch to device\n",
    "    #spectra, labels = spectra.to(device), labels.to(device)\n",
    "    print(spectra)\n",
    "    print(labels)\n",
    "    print(spectra.shape, labels.shape)"
   ]
  },
  {
   "cell_type": "code",
   "execution_count": 1,
   "metadata": {},
   "outputs": [],
   "source": []
  },
  {
   "cell_type": "code",
   "execution_count": 10,
   "metadata": {},
   "outputs": [],
   "source": [
    "#from dask import dataframe as dd\n",
    "#import time\n",
    "#start = time.time()\n",
    "#dask_df = dd.read_csv(spectrum_file, sample = 2000000, header = None)\n",
    "#end = time.time()\n",
    "#end = time.time()\n",
    "#print(\"Read csv with dask: \",(end-start),\"sec\")"
   ]
  },
  {
   "cell_type": "code",
   "execution_count": null,
   "metadata": {},
   "outputs": [],
   "source": []
  },
  {
   "cell_type": "code",
   "execution_count": 12,
   "metadata": {},
   "outputs": [],
   "source": [
    "#######\n",
    "#### PER DAVIDE: SCOMMENTA MODEL E OPTIMIZER E METTI I PARAMENTRI GIUSTI. IL NUMERO DI CLASSI LO SAI, L'INPUT SIZE E' LA SIZE DELLA COLONNA DEL CSV ####"
   ]
  },
  {
   "cell_type": "code",
   "execution_count": 11,
   "metadata": {},
   "outputs": [],
   "source": [
    "#model = SpectraCNNClassifier(input_size, num_classes)\n",
    "loss_fn = nn.CrossEntropyLoss()\n",
    "#optimizer = optim.SGD(models.parameters(), lr=learning_rate)"
   ]
  }
 ],
 "metadata": {
  "kernelspec": {
   "display_name": "Python 3",
   "language": "python",
   "name": "python3"
  },
  "language_info": {
   "codemirror_mode": {
    "name": "ipython",
    "version": 3
   },
   "file_extension": ".py",
   "mimetype": "text/x-python",
   "name": "python",
   "nbconvert_exporter": "python",
   "pygments_lexer": "ipython3",
   "version": "3.11.6"
  }
 },
 "nbformat": 4,
 "nbformat_minor": 2
}
